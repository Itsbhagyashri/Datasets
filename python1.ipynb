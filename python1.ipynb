{
  "nbformat": 4,
  "nbformat_minor": 0,
  "metadata": {
    "colab": {
      "provenance": []
    },
    "kernelspec": {
      "name": "python3",
      "display_name": "Python 3"
    },
    "language_info": {
      "name": "python"
    }
  },
  "cells": [
    {
      "cell_type": "code",
      "source": [
        "print(\"Hello shree\")"
      ],
      "metadata": {
        "colab": {
          "base_uri": "https://localhost:8080/"
        },
        "id": "bKQI32nKNExr",
        "outputId": "e1a20728-70ca-4a88-e00b-93a6510d5000"
      },
      "execution_count": null,
      "outputs": [
        {
          "output_type": "stream",
          "name": "stdout",
          "text": [
            "Hello shree\n"
          ]
        }
      ]
    },
    {
      "cell_type": "code",
      "source": [
        "# This program add two number\n",
        "\n",
        "num1=6.3\n",
        "num2=35.5\n",
        "\n",
        "sum=num1+num2\n",
        "\n",
        "print(\"The sum of {0} and {1} is {2} \".format(num1, num2, sum))"
      ],
      "metadata": {
        "colab": {
          "base_uri": "https://localhost:8080/"
        },
        "id": "-N5Gj9sIODSN",
        "outputId": "47420cc6-106b-4e7b-a227-184f6d6e24f7"
      },
      "execution_count": null,
      "outputs": [
        {
          "output_type": "stream",
          "name": "stdout",
          "text": [
            "The sum of 6.3 and 35.5 is 41.8 \n"
          ]
        }
      ]
    },
    {
      "cell_type": "code",
      "source": [
        "# input from user add two number\n",
        "num1=float(input(\"Enter the number\"))\n",
        "num2=float(input(\"Enter the number\"))\n",
        "\n",
        "sum= num1+num2\n",
        "\n",
        "print(\"The sum of {0} and {1} is {2}\".format(num1,num2,sum))\n",
        "\n"
      ],
      "metadata": {
        "colab": {
          "base_uri": "https://localhost:8080/"
        },
        "id": "GH_nZHCnPA2G",
        "outputId": "0897e0fb-e0ed-4e68-96cb-f9fb85f528bd"
      },
      "execution_count": null,
      "outputs": [
        {
          "output_type": "stream",
          "name": "stdout",
          "text": [
            "Enter the number67.78\n",
            "Enter the number2.5\n",
            "The sum of 67.78 and 2.5 is 70.28\n"
          ]
        }
      ]
    },
    {
      "cell_type": "code",
      "source": [
        "print('The sum is %.1f' %(float(input('Enter first number: ')) + float(input('Enter second number: '))))\n",
        "\n"
      ],
      "metadata": {
        "colab": {
          "base_uri": "https://localhost:8080/"
        },
        "id": "61nu93alQFZB",
        "outputId": "4f314174-735f-4d06-de79-0658b39facd6"
      },
      "execution_count": null,
      "outputs": [
        {
          "output_type": "stream",
          "name": "stdout",
          "text": [
            "Enter first number: 45.5\n",
            "Enter second number: 34.5\n",
            "The sum is 80.0\n"
          ]
        }
      ]
    },
    {
      "cell_type": "code",
      "source": [
        "#program to find to area of triangle\n",
        "a=34\n",
        "b=32\n",
        "c=12\n",
        "\n",
        "#calculate the semi-perimeter\n",
        "s=(a+b+c)/2\n",
        "\n",
        "#calculate the area of triangle\n",
        "area=(s*(s-a)*(s-b)*(s-c))**0.5\n",
        "\n",
        "print(\"the area of tringle is %0.4f\" %area) # %0.4f or %0.2f is use to represent the float"
      ],
      "metadata": {
        "colab": {
          "base_uri": "https://localhost:8080/"
        },
        "id": "72sy7JdQSAZh",
        "outputId": "4299a13b-afcb-4e3d-a336-795890851c96"
      },
      "execution_count": null,
      "outputs": [
        {
          "output_type": "stream",
          "name": "stdout",
          "text": [
            "the area of tringle is 191.9766\n"
          ]
        }
      ]
    },
    {
      "cell_type": "code",
      "source": [
        "# python program to two variable\n",
        "\n",
        "x=input(\"Enter the x value:\")\n",
        "y=input(\"Enter the y value:\")\n",
        "\n",
        "temp=x\n",
        "x=y\n",
        "y=temp\n",
        "\n",
        "print(\"The x value after swapping:{0}\".format(x))\n",
        "print(\"The y value after swapping:{0}\".format(y))"
      ],
      "metadata": {
        "colab": {
          "base_uri": "https://localhost:8080/"
        },
        "id": "T0pr8MOVgW_t",
        "outputId": "005426cf-0788-453a-a068-8d95a86da52f"
      },
      "execution_count": null,
      "outputs": [
        {
          "output_type": "stream",
          "name": "stdout",
          "text": [
            "Enter the x value:76\n",
            "Enter the y value:98\n",
            "The x value after swapping:98\n",
            "The y value after swapping:76\n"
          ]
        }
      ]
    },
    {
      "cell_type": "code",
      "source": [
        "# python program without the use temp swap the two value\n",
        "\n",
        "x=100\n",
        "y=200\n",
        "\n",
        "x,y=y,x\n",
        "print(\"x=\",x)\n",
        "print(\"y=\",y)"
      ],
      "metadata": {
        "colab": {
          "base_uri": "https://localhost:8080/"
        },
        "id": "rR2OkgGYDeDu",
        "outputId": "6da4c3f3-0b59-4a5f-d0e7-13e7918be698"
      },
      "execution_count": null,
      "outputs": [
        {
          "output_type": "stream",
          "name": "stdout",
          "text": [
            "x= 200\n",
            "y= 100\n"
          ]
        }
      ]
    },
    {
      "cell_type": "code",
      "source": [
        "x=7000\n",
        "y=8000\n",
        "\n",
        "x=x+y\n",
        "y=x-y\n",
        "x=x-y\n",
        "\n",
        "print(\"x=\",x)\n",
        "print(\"y=\",y)"
      ],
      "metadata": {
        "colab": {
          "base_uri": "https://localhost:8080/"
        },
        "id": "-Np0xjGnElyQ",
        "outputId": "796221e4-cc06-458d-f60c-c74477ec6848"
      },
      "execution_count": null,
      "outputs": [
        {
          "output_type": "stream",
          "name": "stdout",
          "text": [
            "x= 8000\n",
            "y= 7000\n"
          ]
        }
      ]
    },
    {
      "cell_type": "code",
      "source": [
        "# python program th generate the random value 0 to 9\n",
        "\n",
        "#import the random module\n",
        "import random\n",
        "y=random.randint(0,9)\n",
        "print(y)"
      ],
      "metadata": {
        "colab": {
          "base_uri": "https://localhost:8080/"
        },
        "id": "jeXZF5GcB9Gl",
        "outputId": "8902ec15-fa6a-4a80-da2c-48840670d895"
      },
      "execution_count": 15,
      "outputs": [
        {
          "output_type": "stream",
          "name": "stdout",
          "text": [
            "8\n"
          ]
        }
      ]
    },
    {
      "cell_type": "code",
      "source": [
        "# python program kilometre to miles\n",
        "kilometer=float(input(\"Enter the kilometers::\"))\n",
        "\n",
        "conv_fac=0.62171\n",
        "\n",
        "miles=kilometer*conv_fac\n",
        "\n",
        "print(\"{0} kilometer to convert miles is {1}\".format(kilometer,miles))"
      ],
      "metadata": {
        "colab": {
          "base_uri": "https://localhost:8080/"
        },
        "id": "ODIne1EeIe7x",
        "outputId": "b5378f91-5161-4932-cafe-35d1e245dd3e"
      },
      "execution_count": null,
      "outputs": [
        {
          "output_type": "stream",
          "name": "stdout",
          "text": [
            "Enter the kilometers::67.90\n",
            "67.9 kilometer to convert miles is 42.214109\n"
          ]
        }
      ]
    },
    {
      "cell_type": "code",
      "source": [
        "b=\"hello, the love world!\" \n",
        "c=\"good morning\"  \n",
        "print(b+c)"
      ],
      "metadata": {
        "id": "jNT7AlYLKECA",
        "colab": {
          "base_uri": "https://localhost:8080/"
        },
        "outputId": "9cb67d1d-531e-4381-d0e4-b0c9fd5d7598"
      },
      "execution_count": null,
      "outputs": [
        {
          "output_type": "stream",
          "name": "stdout",
          "text": [
            "hello, the love world!good morning\n"
          ]
        }
      ]
    },
    {
      "cell_type": "code",
      "source": [
        "a=400\n",
        "b=400\n",
        "if a>b:\n",
        "  print(\"a is greater then b\")\n",
        "elif a==b:\n",
        "  print(\"b is equal than a\")"
      ],
      "metadata": {
        "colab": {
          "base_uri": "https://localhost:8080/"
        },
        "id": "XKGBZQYqM6YK",
        "outputId": "7dafd517-a4fe-46c9-be5a-8e7bece3be4a"
      },
      "execution_count": null,
      "outputs": [
        {
          "output_type": "stream",
          "name": "stdout",
          "text": [
            "b is equal than a\n"
          ]
        }
      ]
    },
    {
      "cell_type": "code",
      "source": [
        "#extra example \n",
        "a=300\n",
        "b=34\n",
        "print(\"a is greater than b\") if a>b else print(\"b is grater than a \")"
      ],
      "metadata": {
        "colab": {
          "base_uri": "https://localhost:8080/"
        },
        "id": "ae5FunaEsrgN",
        "outputId": "b8964d51-4430-45d4-92b2-d372eafcdc0a"
      },
      "execution_count": null,
      "outputs": [
        {
          "output_type": "stream",
          "name": "stdout",
          "text": [
            "a is greater than b\n"
          ]
        }
      ]
    },
    {
      "cell_type": "code",
      "source": [
        "n=89\n",
        "m=777\n",
        "o=890\n",
        "if n>m or o>n:\n",
        "  print(\"a\")\n",
        "else:\n",
        "  print(\"b\")"
      ],
      "metadata": {
        "colab": {
          "base_uri": "https://localhost:8080/"
        },
        "id": "qWwl-fSItRhG",
        "outputId": "023882a3-06c9-4a67-a4dd-e4f5c795164e"
      },
      "execution_count": null,
      "outputs": [
        {
          "output_type": "stream",
          "name": "stdout",
          "text": [
            "a\n"
          ]
        }
      ]
    },
    {
      "cell_type": "code",
      "source": [
        "#function\n",
        "def myfun():\n",
        "  print(\"BHAGYASHRI PATIL\")\n",
        "\n",
        "myfun()"
      ],
      "metadata": {
        "colab": {
          "base_uri": "https://localhost:8080/"
        },
        "id": "l8xGFzx9ynw9",
        "outputId": "9a204e1a-fad3-4ce7-a888-93c43ae843fa"
      },
      "execution_count": 5,
      "outputs": [
        {
          "output_type": "stream",
          "name": "stdout",
          "text": [
            "BHAGYASHRI PATIL\n"
          ]
        }
      ]
    },
    {
      "cell_type": "code",
      "source": [
        "#function\n",
        "def myfun1(x):                #when i define the function then i will pass parameter(x)\n",
        "  print(x+\" \"+\"patil\")\n",
        "\n",
        "myfun1(\"BHAGI\")                  #when i define the function then i will call argument(\"my\")"
      ],
      "metadata": {
        "colab": {
          "base_uri": "https://localhost:8080/"
        },
        "id": "7fH7mQ10z9SC",
        "outputId": "1c96050a-3fee-4331-bdf2-cc1142a9125c"
      },
      "execution_count": 6,
      "outputs": [
        {
          "output_type": "stream",
          "name": "stdout",
          "text": [
            "BHAGI patil\n"
          ]
        }
      ]
    },
    {
      "cell_type": "code",
      "source": [
        "#funtion\n",
        "def myfun(x,y,z):\n",
        "  print(\"i\"+\" \"+x+\" \"+y)\n",
        "  print(z+\" \"+\"world\")\n",
        "\n",
        "\n",
        "myfun(\"love\",\"you\",\"hello\")"
      ],
      "metadata": {
        "colab": {
          "base_uri": "https://localhost:8080/"
        },
        "id": "ggR2lw3B1Gyr",
        "outputId": "01f1f627-d246-448c-a968-93d9c99c7627"
      },
      "execution_count": null,
      "outputs": [
        {
          "output_type": "stream",
          "name": "stdout",
          "text": [
            "i love you\n",
            "hello world\n"
          ]
        }
      ]
    },
    {
      "cell_type": "code",
      "source": [
        "#for loop\n",
        "joke=[1,12,2,3,4,32,43,5,33,345]\n",
        "for i in joke:\n",
        "  if i==32:\n",
        "    continue     # skip 32 and continue\n",
        "  print(i)\n",
        " \n",
        "  \n",
        "    "
      ],
      "metadata": {
        "colab": {
          "base_uri": "https://localhost:8080/"
        },
        "id": "KJel5zLf31D9",
        "outputId": "4c24dafd-ab9d-4d05-c527-932dc48696f3"
      },
      "execution_count": null,
      "outputs": [
        {
          "output_type": "stream",
          "name": "stdout",
          "text": [
            "1\n",
            "12\n",
            "2\n",
            "3\n",
            "4\n",
            "43\n",
            "5\n",
            "33\n",
            "345\n"
          ]
        }
      ]
    },
    {
      "cell_type": "code",
      "source": [
        "#for loop using break\n",
        "d=[8,45,43,23,2,26,7,5]\n",
        "for i in d:\n",
        "  print(i)\n",
        "  if i==26:\n",
        "    break               #26 after the break value\n"
      ],
      "metadata": {
        "colab": {
          "base_uri": "https://localhost:8080/"
        },
        "id": "Y-bzN7NJ4xY6",
        "outputId": "45359f7c-5814-485a-9153-b3c2a1a773da"
      },
      "execution_count": null,
      "outputs": [
        {
          "output_type": "stream",
          "name": "stdout",
          "text": [
            "8\n",
            "45\n",
            "43\n",
            "23\n",
            "2\n",
            "26\n"
          ]
        }
      ]
    },
    {
      "cell_type": "code",
      "source": [
        "#for loop range\n",
        "for i in range(10):\n",
        "  print(i)"
      ],
      "metadata": {
        "colab": {
          "base_uri": "https://localhost:8080/"
        },
        "id": "V87hna644uj6",
        "outputId": "aa64bd15-ff76-4ff0-c637-f0ee83f91d65"
      },
      "execution_count": 1,
      "outputs": [
        {
          "output_type": "stream",
          "name": "stdout",
          "text": [
            "0\n",
            "1\n",
            "2\n",
            "3\n",
            "4\n",
            "5\n",
            "6\n",
            "7\n",
            "8\n",
            "9\n"
          ]
        }
      ]
    },
    {
      "cell_type": "code",
      "source": [
        "for i in range(20,40):\n",
        "  print(i)"
      ],
      "metadata": {
        "colab": {
          "base_uri": "https://localhost:8080/"
        },
        "id": "BQfohlSP5mLT",
        "outputId": "45083138-9458-44bf-f6ca-3597f30c5609"
      },
      "execution_count": null,
      "outputs": [
        {
          "output_type": "stream",
          "name": "stdout",
          "text": [
            "20\n",
            "21\n",
            "22\n",
            "23\n",
            "24\n",
            "25\n",
            "26\n",
            "27\n",
            "28\n",
            "29\n",
            "30\n",
            "31\n",
            "32\n",
            "33\n",
            "34\n",
            "35\n",
            "36\n",
            "37\n",
            "38\n",
            "39\n"
          ]
        }
      ]
    },
    {
      "cell_type": "code",
      "source": [
        "#while loop\n",
        "i=1\n",
        "while i<=10:\n",
        "  print(i)\n",
        "  i+=1"
      ],
      "metadata": {
        "colab": {
          "base_uri": "https://localhost:8080/"
        },
        "id": "PUn1Ken-4umK",
        "outputId": "17dd818b-2ce5-4917-ceab-f5541f3775ee"
      },
      "execution_count": null,
      "outputs": [
        {
          "output_type": "stream",
          "name": "stdout",
          "text": [
            "1\n",
            "2\n",
            "3\n",
            "4\n",
            "5\n",
            "6\n",
            "7\n",
            "8\n",
            "9\n",
            "10\n"
          ]
        }
      ]
    },
    {
      "cell_type": "code",
      "source": [
        "#while loop using break\n",
        "b=1\n",
        "while b<=10:\n",
        "  print(b)\n",
        "  if b==6:\n",
        "    break\n",
        "  b+=1"
      ],
      "metadata": {
        "colab": {
          "base_uri": "https://localhost:8080/"
        },
        "id": "WXw6Bxn96tWc",
        "outputId": "9fa12ae5-cd20-4b91-a0d3-d935a4e49e11"
      },
      "execution_count": null,
      "outputs": [
        {
          "output_type": "stream",
          "name": "stdout",
          "text": [
            "1\n",
            "2\n",
            "3\n",
            "4\n",
            "5\n",
            "6\n"
          ]
        }
      ]
    },
    {
      "cell_type": "code",
      "source": [
        "#while loop using continue\n",
        "b=0\n",
        "while b<=10:\n",
        "    b+=1\n",
        "    if b==6:\n",
        "      continue\n",
        "  \n",
        "    print(b)"
      ],
      "metadata": {
        "colab": {
          "base_uri": "https://localhost:8080/"
        },
        "id": "vsxeI3Jz7QPA",
        "outputId": "4ff6da87-c2f0-49f1-ccf7-5f6987726dbd"
      },
      "execution_count": null,
      "outputs": [
        {
          "output_type": "stream",
          "name": "stdout",
          "text": [
            "1\n",
            "2\n",
            "3\n",
            "4\n",
            "5\n",
            "7\n",
            "8\n",
            "9\n",
            "10\n",
            "11\n"
          ]
        }
      ]
    },
    {
      "cell_type": "code",
      "source": [
        "def trial(a,b):\n",
        "  print(a+\" \"+b)\n",
        "\n",
        "trial(\"hey\",\"shree\")"
      ],
      "metadata": {
        "id": "RK5xBgLoCgsz",
        "colab": {
          "base_uri": "https://localhost:8080/"
        },
        "outputId": "5798ec40-064d-418f-b7d7-6a03033ea67e"
      },
      "execution_count": null,
      "outputs": [
        {
          "output_type": "stream",
          "name": "stdout",
          "text": [
            "heyshree\n"
          ]
        }
      ]
    },
    {
      "cell_type": "code",
      "source": [
        "list=[\"family\",\"friend\",\"boyfriend\"]\n",
        "def loop(x):\n",
        "  print(x*3)\n",
        "\n",
        "loop(list)"
      ],
      "metadata": {
        "colab": {
          "base_uri": "https://localhost:8080/"
        },
        "id": "IQm3vCY9DvzR",
        "outputId": "8c7ac3b1-6e22-4e89-ba0a-5389109cf1f0"
      },
      "execution_count": null,
      "outputs": [
        {
          "output_type": "stream",
          "name": "stdout",
          "text": [
            "['family', 'friend', 'boyfriend', 'family', 'friend', 'boyfriend', 'family', 'friend', 'boyfriend']\n"
          ]
        }
      ]
    },
    {
      "cell_type": "code",
      "source": [
        "list=[\"family\",\"friend\",\"boyfriend\"]\n",
        "def loop(x):\n",
        "  print(x*3)\n",
        "\n",
        "def mapp(me,list):\n",
        "  for items in list:\n",
        "    me(items)\n",
        "\n",
        "mapp(loop,list)"
      ],
      "metadata": {
        "id": "hqoye9pGCgwP",
        "colab": {
          "base_uri": "https://localhost:8080/"
        },
        "outputId": "5f6f56bd-024d-4dcc-9613-9614ea6ffbb8"
      },
      "execution_count": null,
      "outputs": [
        {
          "output_type": "stream",
          "name": "stdout",
          "text": [
            "familyfamilyfamily\n",
            "friendfriendfriend\n",
            "boyfriendboyfriendboyfriend\n"
          ]
        }
      ]
    },
    {
      "cell_type": "code",
      "source": [
        "#list[]\n",
        "#list== ordered, chnageable and allow duplicate\n",
        "list=[\"car\",\"me\",34,3.5,\"true\"]\n",
        "print(list)\n",
        "print(len(list))                                #length the list start from 1 and index start from 0\n",
        "print(type(list))\n",
        "print(list[0])                                   #print the 0 th index value\n",
        "print(list[2:5])                                #range the list\n",
        "print(list[: : -1])                             # reverse the list\n",
        "list[4]=\"bike\"                                  # change the value\n",
        "print(list)\n",
        "list.insert(3,\"tata\")                             #insert the value in any index\n",
        "print(list)\n",
        "list.append(\"love\")                               #bike after the add value at the last add value\n",
        "print(list)"
      ],
      "metadata": {
        "colab": {
          "base_uri": "https://localhost:8080/"
        },
        "id": "OG0UzObtGG7w",
        "outputId": "1e483f24-3e22-4a4b-8f86-61ba87628604"
      },
      "execution_count": null,
      "outputs": [
        {
          "output_type": "stream",
          "name": "stdout",
          "text": [
            "['car', 'me', 34, 3.5, 'true']\n",
            "5\n",
            "<class 'list'>\n",
            "car\n",
            "[34, 3.5, 'true']\n",
            "['true', 3.5, 34, 'me', 'car']\n",
            "['car', 'me', 34, 3.5, 'bike']\n",
            "['car', 'me', 34, 'tata', 3.5, 'bike']\n",
            "['car', 'me', 34, 'tata', 3.5, 'bike', 'love']\n"
          ]
        }
      ]
    },
    {
      "cell_type": "code",
      "source": [
        "#tuple ()\n",
        "#odered ,unchangeable,and allow duplicate\n",
        "tuple=(\"mike\",\"joy\",67,678.9,\"trur\",\"nike\")\n",
        "print(tuple)\n",
        "print(len(tuple))\n",
        "print(type(tuple))\n",
        "print(tuple[4])\n",
        "print(tuple[2:5])"
      ],
      "metadata": {
        "colab": {
          "base_uri": "https://localhost:8080/"
        },
        "id": "pO7b_RcXUDyr",
        "outputId": "c0842dcd-9db7-4a68-faed-d1594cf4df38"
      },
      "execution_count": null,
      "outputs": [
        {
          "output_type": "stream",
          "name": "stdout",
          "text": [
            "('mike', 'joy', 67, 678.9, 'trur', 'nike')\n",
            "6\n",
            "<class 'tuple'>\n",
            "trur\n",
            "(67, 678.9, 'trur')\n"
          ]
        }
      ]
    },
    {
      "cell_type": "code",
      "source": [
        "#suppose i want to change the tuple value\n",
        "#then i will tuple convert the list then the tuple value change\n",
        "\n",
        "z=(\"jgj\",\"hbvhjb\",67,677,345,\"true\")\n",
        "y= list('me')\n",
        "y[1]=\"love\"\n",
        "t= tuple(z)\n",
        "print(t) \n",
        "print(y)"
      ],
      "metadata": {
        "colab": {
          "base_uri": "https://localhost:8080/"
        },
        "id": "Bo1Ut6ehWOAg",
        "outputId": "7fc6f771-c6e8-484a-aff2-2cdecf588b21"
      },
      "execution_count": 4,
      "outputs": [
        {
          "output_type": "stream",
          "name": "stdout",
          "text": [
            "('jgj', 'hbvhjb', 67, 677, 345, 'true')\n",
            "['m', 'love']\n"
          ]
        }
      ]
    },
    {
      "cell_type": "code",
      "source": [],
      "metadata": {
        "id": "2SeFDwKNOrDO"
      },
      "execution_count": null,
      "outputs": []
    }
  ]
}